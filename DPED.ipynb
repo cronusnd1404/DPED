{
  "nbformat": 4,
  "nbformat_minor": 0,
  "metadata": {
    "colab": {
      "provenance": [],
      "authorship_tag": "ABX9TyN62BtXAk2i13kNGdDduAgI",
      "include_colab_link": true
    },
    "kernelspec": {
      "name": "python3",
      "display_name": "Python 3"
    },
    "language_info": {
      "name": "python"
    }
  },
  "cells": [
    {
      "cell_type": "markdown",
      "metadata": {
        "id": "view-in-github",
        "colab_type": "text"
      },
      "source": [
        "<a href=\"https://colab.research.google.com/github/cronusnd1404/DPED/blob/master/DPED.ipynb\" target=\"_parent\"><img src=\"https://colab.research.google.com/assets/colab-badge.svg\" alt=\"Open In Colab\"/></a>"
      ]
    },
    {
      "source": [
        "from google.colab import drive\n",
        "drive.mount('/content/drive')"
      ],
      "cell_type": "code",
      "metadata": {
        "colab": {
          "base_uri": "https://localhost:8080/"
        },
        "id": "gwIE3HScRYla",
        "outputId": "d6d45c4a-5cad-4f17-e448-41dcc35af1a6"
      },
      "execution_count": 1,
      "outputs": [
        {
          "output_type": "stream",
          "name": "stdout",
          "text": [
            "Mounted at /content/drive\n"
          ]
        }
      ]
    },
    {
      "cell_type": "markdown",
      "source": [
        "# Mục mới"
      ],
      "metadata": {
        "id": "oD2Yvg3wEVfw"
      }
    },
    {
      "source": [
        "!git clone https://github.com/cronusnd1404/DPED"
      ],
      "cell_type": "code",
      "metadata": {
        "colab": {
          "base_uri": "https://localhost:8080/"
        },
        "id": "Tmcu6GLaRp2K",
        "outputId": "94178db1-47e3-4926-8210-6bd287a22065"
      },
      "execution_count": null,
      "outputs": [
        {
          "output_type": "stream",
          "name": "stdout",
          "text": [
            "Cloning into 'DPED'...\n",
            "remote: Enumerating objects: 57, done.\u001b[K\n",
            "remote: Counting objects: 100% (33/33), done.\u001b[K\n",
            "remote: Compressing objects: 100% (20/20), done.\u001b[K\n",
            "remote: Total 57 (delta 23), reused 12 (delta 12), pack-reused 24 (from 1)\u001b[K\n",
            "Receiving objects: 100% (57/57), 4.29 MiB | 32.09 MiB/s, done.\n",
            "Resolving deltas: 100% (24/24), done.\n"
          ]
        }
      ]
    },
    {
      "source": [
        "!ls /content/DPED/"
      ],
      "cell_type": "code",
      "metadata": {
        "colab": {
          "base_uri": "https://localhost:8080/"
        },
        "id": "icdkuhEhR39u",
        "outputId": "fb6e7a46-ad95-4a8b-b440-7454aa4d1d38"
      },
      "execution_count": null,
      "outputs": [
        {
          "output_type": "stream",
          "name": "stdout",
          "text": [
            "dped\t\t models_orig  results\t     train_model.py  vgg.py\n",
            "load_dataset.py  models.py    ssim.py\t     utils.py\t     visual_results\n",
            "models\t\t README.md    test_model.py  vgg_pretrained\n"
          ]
        }
      ]
    },
    {
      "cell_type": "markdown",
      "source": [],
      "metadata": {
        "id": "7PLmS25-tGtY"
      }
    }
  ]
}